{
 "cells": [
  {
   "cell_type": "code",
   "execution_count": 13,
   "id": "e8aa038b",
   "metadata": {},
   "outputs": [],
   "source": [
    "import pandas as pd \n",
    "from sklearn.metrics import confusion_matrix , classification_report\n",
    "import matplotlib.pyplot as plt\n",
    "import seaborn as sns"
   ]
  },
  {
   "cell_type": "code",
   "execution_count": 14,
   "id": "c4ed132a",
   "metadata": {},
   "outputs": [],
   "source": [
    "def plot_confusion_matrix(confusion_matrix,class_names , figsize=(10,5)):\n",
    "    cm = pd.DataFrame(confusion_matrix, index=class_names,columns=class_names)\n",
    "    fig = plt.figure(figsize=figsize)\n",
    "    try:\n",
    "        heat_map = sns.heatmap(cm,annot = True,fmt = 'd')\n",
    "    except ValueError:\n",
    "        raise ValueError('confusion matrix must be integers')\n",
    "    plt.ylabel('Truth')\n",
    "    plt.xlabel('Prediction')"
   ]
  },
  {
   "cell_type": "code",
   "execution_count": 15,
   "id": "8f2a6a86",
   "metadata": {},
   "outputs": [],
   "source": [
    "truth =      [\"Dog\",\"Not a dog\",\"Dog\",\"Dog\",\"Dog\", \"Not a dog\", \"Not a dog\", \"Dog\",\"Dog\", \"Not a dog\"]\n",
    "prediction = [\"Dog\",\"Dog\", \"Dog\",\"Not a dog\",\"Dog\", \"Not a dog\", \"Dog\",\"Not a dog\", \"Dog\", \"Dog\"]"
   ]
  },
  {
   "cell_type": "code",
   "execution_count": 16,
   "id": "f31b9844",
   "metadata": {},
   "outputs": [
    {
     "data": {
      "image/png": "[encoded data removed]",
      "text/plain": [
       "<Figure size 720x360 with 2 Axes>"
      ]
     },
     "metadata": {
      "needs_background": "light"
     },
     "output_type": "display_data"
    }
   ],
   "source": [
    "cm_1 = confusion_matrix(truth,prediction)\n",
    "plot_confusion_matrix(cm_1,['Dog','Not a dog'])"
   ]
  },
  {
   "cell_type": "code",
   "execution_count": 17,
   "id": "851745c9",
   "metadata": {},
   "outputs": [
    {
     "name": "stdout",
     "output_type": "stream",
     "text": [
      "              precision    recall  f1-score   support\n",
      "\n",
      "         Dog       0.57      0.67      0.62         6\n",
      "   Not a dog       0.33      0.25      0.29         4\n",
      "\n",
      "    accuracy                           0.50        10\n",
      "   macro avg       0.45      0.46      0.45        10\n",
      "weighted avg       0.48      0.50      0.48        10\n",
      "\n"
     ]
    }
   ],
   "source": [
    "print(classification_report(truth,prediction))"
   ]
  },
  {
   "cell_type": "markdown",
   "id": "e09aee9c",
   "metadata": {},
   "source": [
    "### f1 score for Dog class"
   ]
  },
  {
   "cell_type": "code",
   "execution_count": 18,
   "id": "8c43be80",
   "metadata": {},
   "outputs": [
    {
     "data": {
      "text/plain": [
       "0.6159677419354839"
      ]
     },
     "execution_count": 18,
     "metadata": {},
     "output_type": "execute_result"
    }
   ],
   "source": [
    "2*(0.57*0.67)/(0.57+0.67)"
   ]
  },
  {
   "cell_type": "markdown",
   "id": "fc303588",
   "metadata": {},
   "source": [
    "### f1 score for Not a dog class"
   ]
  },
  {
   "cell_type": "code",
   "execution_count": 19,
   "id": "0dd99d35",
   "metadata": {},
   "outputs": [
    {
     "data": {
      "text/plain": [
       "0.2844827586206896"
      ]
     },
     "execution_count": 19,
     "metadata": {},
     "output_type": "execute_result"
    }
   ],
   "source": [
    "2*(0.33*0.25)/(0.33+0.25)"
   ]
  }
 ],
 "metadata": {
  "kernelspec": {
   "display_name": "Python 3",
   "language": "python",
   "name": "python3"
  },
  "language_info": {
   "codemirror_mode": {
    "name": "ipython",
    "version": 3
   },
   "file_extension": ".py",
   "mimetype": "text/x-python",
   "name": "python",
   "nbconvert_exporter": "python",
   "pygments_lexer": "ipython3",
   "version": "3.8.8"
  }
 },
 "nbformat": 4,
 "nbformat_minor": 5
}
